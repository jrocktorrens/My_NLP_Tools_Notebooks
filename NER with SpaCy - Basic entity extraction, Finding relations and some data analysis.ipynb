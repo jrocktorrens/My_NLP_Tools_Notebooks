{
 "cells": [
  {
   "cell_type": "code",
   "execution_count": 4,
   "metadata": {},
   "outputs": [],
   "source": [
    "import warnings\n",
    "warnings.filterwarnings('ignore')"
   ]
  },
  {
   "cell_type": "markdown",
   "metadata": {},
   "source": [
    "# NER with SpaCy - Basic entity extraction, Finding relations and some data analysis"
   ]
  },
  {
   "cell_type": "markdown",
   "metadata": {
    "id": "Annpxiv4h-UR",
    "tags": []
   },
   "source": [
    "## NER With SpaCy\n",
    "\n",
    "In this notebook I will use spaCy's named entity recognition (NER) algorithm to find relations between different entities in the Brown corpus.\n",
    "\n",
    "### Basic entity extraction\n",
    "\n",
    "The Brown corpus is a well-known corpus of English developed at Brown University, containing text from many different sources. We will use entity extraction on a subset of the Brown corpus covering a few categories.\n",
    "\n",
    "We can use spaCy to find entities in a basic sentence as follows:"
   ]
  },
  {
   "cell_type": "code",
   "execution_count": 5,
   "metadata": {
    "colab": {
     "base_uri": "https://localhost:8080/",
     "height": 35
    },
    "executionInfo": {
     "elapsed": 4219,
     "status": "ok",
     "timestamp": 1547631494212,
     "user": {
      "displayName": "Amnon Lotan",
      "photoUrl": "https://lh5.googleusercontent.com/-Dr8ccr599dc/AAAAAAAAAAI/AAAAAAAAWjM/hdUSEex3GHk/s64/photo.jpg",
      "userId": "10932407909649468838"
     },
     "user_tz": -120
    },
    "id": "-7o3Pmqx8RoY",
    "outputId": "e43b9d87-b534-4b66-8e8f-78c0ed09d4f7"
   },
   "outputs": [
    {
     "name": "stdout",
     "output_type": "stream",
     "text": [
      "[('The White House', 'ORG'), ('Washington', 'GPE'), ('D.C.', 'GPE')]\n"
     ]
    }
   ],
   "source": [
    "import spacy\n",
    "nlp = spacy.load('en_core_web_sm')\n",
    "sample_sentence = \"The White House is located in Washington D.C.\"\n",
    "sample_doc = nlp(sample_sentence)\n",
    "print([(ent.text, ent.label_) for ent in sample_doc.ents])"
   ]
  },
  {
   "cell_type": "markdown",
   "metadata": {
    "id": "NKZCp5Mm8tNA"
   },
   "source": [
    "To see what an entity label means:"
   ]
  },
  {
   "cell_type": "code",
   "execution_count": 6,
   "metadata": {
    "colab": {
     "base_uri": "https://localhost:8080/",
     "height": 34
    },
    "executionInfo": {
     "elapsed": 1406,
     "status": "ok",
     "timestamp": 1547614158473,
     "user": {
      "displayName": "Morris Alper",
      "photoUrl": "https://lh3.googleusercontent.com/--_gcOdCIoAM/AAAAAAAAAAI/AAAAAAAAFCI/ar-HeAB3FNk/s64/photo.jpg",
      "userId": "15842932163458061285"
     },
     "user_tz": -120
    },
    "id": "2FnRm2g68vRF",
    "outputId": "968b0436-4423-4f89-e5ad-b1399069c119"
   },
   "outputs": [
    {
     "data": {
      "text/plain": [
       "'Companies, agencies, institutions, etc.'"
      ]
     },
     "execution_count": 6,
     "metadata": {},
     "output_type": "execute_result"
    }
   ],
   "source": [
    "spacy.explain(\"ORG\")"
   ]
  },
  {
   "cell_type": "markdown",
   "metadata": {
    "id": "X7o3BKUc8zyU"
   },
   "source": [
    "And to display the entities in a document using displaCy:"
   ]
  },
  {
   "cell_type": "code",
   "execution_count": 7,
   "metadata": {
    "colab": {
     "base_uri": "https://localhost:8080/",
     "height": 52
    },
    "executionInfo": {
     "elapsed": 618,
     "status": "ok",
     "timestamp": 1547617186818,
     "user": {
      "displayName": "Morris Alper",
      "photoUrl": "https://lh3.googleusercontent.com/--_gcOdCIoAM/AAAAAAAAAAI/AAAAAAAAFCI/ar-HeAB3FNk/s64/photo.jpg",
      "userId": "15842932163458061285"
     },
     "user_tz": -120
    },
    "id": "QP1KmOVJ84bV",
    "outputId": "917884a2-f49e-4640-891b-bce84ea40417"
   },
   "outputs": [
    {
     "data": {
      "text/html": [
       "<span class=\"tex2jax_ignore\"><div class=\"entities\" style=\"line-height: 2.5; direction: ltr\">\n",
       "<mark class=\"entity\" style=\"background: #7aecec; padding: 0.45em 0.6em; margin: 0 0.25em; line-height: 1; border-radius: 0.35em;\">\n",
       "    The White House\n",
       "    <span style=\"font-size: 0.8em; font-weight: bold; line-height: 1; border-radius: 0.35em; vertical-align: middle; margin-left: 0.5rem\">ORG</span>\n",
       "</mark>\n",
       " is located in \n",
       "<mark class=\"entity\" style=\"background: #feca74; padding: 0.45em 0.6em; margin: 0 0.25em; line-height: 1; border-radius: 0.35em;\">\n",
       "    Washington\n",
       "    <span style=\"font-size: 0.8em; font-weight: bold; line-height: 1; border-radius: 0.35em; vertical-align: middle; margin-left: 0.5rem\">GPE</span>\n",
       "</mark>\n",
       " \n",
       "<mark class=\"entity\" style=\"background: #feca74; padding: 0.45em 0.6em; margin: 0 0.25em; line-height: 1; border-radius: 0.35em;\">\n",
       "    D.C.\n",
       "    <span style=\"font-size: 0.8em; font-weight: bold; line-height: 1; border-radius: 0.35em; vertical-align: middle; margin-left: 0.5rem\">GPE</span>\n",
       "</mark>\n",
       "</div></span>"
      ],
      "text/plain": [
       "<IPython.core.display.HTML object>"
      ]
     },
     "metadata": {},
     "output_type": "display_data"
    }
   ],
   "source": [
    "from spacy import displacy\n",
    "displacy.render(sample_doc, style='ent', jupyter = True)"
   ]
  },
  {
   "cell_type": "markdown",
   "metadata": {
    "id": "3ACx7CRs9NuT"
   },
   "source": [
    "### Using the Brown corpus\n",
    "Now let's load sentences from the Brown corpus for a few categories:"
   ]
  },
  {
   "cell_type": "code",
   "execution_count": 8,
   "metadata": {
    "colab": {
     "base_uri": "https://localhost:8080/",
     "height": 54
    },
    "executionInfo": {
     "elapsed": 1155,
     "status": "ok",
     "timestamp": 1547631595616,
     "user": {
      "displayName": "Amnon Lotan",
      "photoUrl": "https://lh5.googleusercontent.com/-Dr8ccr599dc/AAAAAAAAAAI/AAAAAAAAWjM/hdUSEex3GHk/s64/photo.jpg",
      "userId": "10932407909649468838"
     },
     "user_tz": -120
    },
    "id": "X8xYIWcj925M",
    "outputId": "aa3d0964-b420-439d-e1dd-13a8f2ef9aae"
   },
   "outputs": [
    {
     "name": "stderr",
     "output_type": "stream",
     "text": [
      "[nltk_data] Downloading package brown to /home/jrock/nltk_data...\n",
      "[nltk_data]   Unzipping corpora/brown.zip.\n"
     ]
    }
   ],
   "source": [
    "import nltk\n",
    "nltk.download('brown')\n",
    "from nltk.corpus import brown\n",
    "sentences = brown.sents(categories = ['news', 'editorial', 'reviews'])"
   ]
  },
  {
   "cell_type": "markdown",
   "metadata": {
    "id": "HgdfpE10-Iqt"
   },
   "source": [
    "Using displaCy to display the entities in the first three sentences of this corpus. What are some entities that are tagged, and what do their entity labels means?"
   ]
  },
  {
   "cell_type": "code",
   "execution_count": 9,
   "metadata": {},
   "outputs": [
    {
     "data": {
      "text/html": [
       "<span class=\"tex2jax_ignore\"><div class=\"entities\" style=\"line-height: 2.5; direction: ltr\">\n",
       "<mark class=\"entity\" style=\"background: #7aecec; padding: 0.45em 0.6em; margin: 0 0.25em; line-height: 1; border-radius: 0.35em;\">\n",
       "    The Fulton County Grand Jury\n",
       "    <span style=\"font-size: 0.8em; font-weight: bold; line-height: 1; border-radius: 0.35em; vertical-align: middle; margin-left: 0.5rem\">ORG</span>\n",
       "</mark>\n",
       " said \n",
       "<mark class=\"entity\" style=\"background: #bfe1d9; padding: 0.45em 0.6em; margin: 0 0.25em; line-height: 1; border-radius: 0.35em;\">\n",
       "    Friday\n",
       "    <span style=\"font-size: 0.8em; font-weight: bold; line-height: 1; border-radius: 0.35em; vertical-align: middle; margin-left: 0.5rem\">DATE</span>\n",
       "</mark>\n",
       " an investigation of \n",
       "<mark class=\"entity\" style=\"background: #feca74; padding: 0.45em 0.6em; margin: 0 0.25em; line-height: 1; border-radius: 0.35em;\">\n",
       "    Atlanta\n",
       "    <span style=\"font-size: 0.8em; font-weight: bold; line-height: 1; border-radius: 0.35em; vertical-align: middle; margin-left: 0.5rem\">GPE</span>\n",
       "</mark>\n",
       "'s recent primary election produced `` no evidence '' that any irregularities took place .</div></span>"
      ],
      "text/plain": [
       "<IPython.core.display.HTML object>"
      ]
     },
     "metadata": {},
     "output_type": "display_data"
    },
    {
     "data": {
      "text/html": [
       "<span class=\"tex2jax_ignore\"><div class=\"entities\" style=\"line-height: 2.5; direction: ltr\">The jury further said in term-end presentments that \n",
       "<mark class=\"entity\" style=\"background: #7aecec; padding: 0.45em 0.6em; margin: 0 0.25em; line-height: 1; border-radius: 0.35em;\">\n",
       "    the City Executive Committee\n",
       "    <span style=\"font-size: 0.8em; font-weight: bold; line-height: 1; border-radius: 0.35em; vertical-align: middle; margin-left: 0.5rem\">ORG</span>\n",
       "</mark>\n",
       " , which had over-all charge of the election , `` deserves the praise and thanks of \n",
       "<mark class=\"entity\" style=\"background: #feca74; padding: 0.45em 0.6em; margin: 0 0.25em; line-height: 1; border-radius: 0.35em;\">\n",
       "    the City of Atlanta\n",
       "    <span style=\"font-size: 0.8em; font-weight: bold; line-height: 1; border-radius: 0.35em; vertical-align: middle; margin-left: 0.5rem\">GPE</span>\n",
       "</mark>\n",
       " '' for the manner in which the election was conducted .</div></span>"
      ],
      "text/plain": [
       "<IPython.core.display.HTML object>"
      ]
     },
     "metadata": {},
     "output_type": "display_data"
    },
    {
     "data": {
      "text/html": [
       "<span class=\"tex2jax_ignore\"><div class=\"entities\" style=\"line-height: 2.5; direction: ltr\">The \n",
       "<mark class=\"entity\" style=\"background: #bfe1d9; padding: 0.45em 0.6em; margin: 0 0.25em; line-height: 1; border-radius: 0.35em;\">\n",
       "    September-October\n",
       "    <span style=\"font-size: 0.8em; font-weight: bold; line-height: 1; border-radius: 0.35em; vertical-align: middle; margin-left: 0.5rem\">DATE</span>\n",
       "</mark>\n",
       " term jury had been charged by \n",
       "<mark class=\"entity\" style=\"background: #7aecec; padding: 0.45em 0.6em; margin: 0 0.25em; line-height: 1; border-radius: 0.35em;\">\n",
       "    Fulton Superior Court\n",
       "    <span style=\"font-size: 0.8em; font-weight: bold; line-height: 1; border-radius: 0.35em; vertical-align: middle; margin-left: 0.5rem\">ORG</span>\n",
       "</mark>\n",
       " Judge \n",
       "<mark class=\"entity\" style=\"background: #aa9cfc; padding: 0.45em 0.6em; margin: 0 0.25em; line-height: 1; border-radius: 0.35em;\">\n",
       "    Durwood Pye\n",
       "    <span style=\"font-size: 0.8em; font-weight: bold; line-height: 1; border-radius: 0.35em; vertical-align: middle; margin-left: 0.5rem\">PERSON</span>\n",
       "</mark>\n",
       " to investigate reports of possible `` irregularities '' in the hard-fought primary which was won by Mayor-nominate \n",
       "<mark class=\"entity\" style=\"background: #aa9cfc; padding: 0.45em 0.6em; margin: 0 0.25em; line-height: 1; border-radius: 0.35em;\">\n",
       "    Ivan Allen Jr.\n",
       "    <span style=\"font-size: 0.8em; font-weight: bold; line-height: 1; border-radius: 0.35em; vertical-align: middle; margin-left: 0.5rem\">PERSON</span>\n",
       "</mark>\n",
       " .</div></span>"
      ],
      "text/plain": [
       "<IPython.core.display.HTML object>"
      ]
     },
     "metadata": {},
     "output_type": "display_data"
    }
   ],
   "source": [
    "for i in range(3):\n",
    "    displacy.render(nlp(' '.join(sentences[i])), style='ent', jupyter = True)"
   ]
  },
  {
   "cell_type": "markdown",
   "metadata": {},
   "source": [
    "Friday and September-October were tagged as DATE:"
   ]
  },
  {
   "cell_type": "code",
   "execution_count": 10,
   "metadata": {},
   "outputs": [
    {
     "data": {
      "text/plain": [
       "'Absolute or relative dates or periods'"
      ]
     },
     "execution_count": 10,
     "metadata": {},
     "output_type": "execute_result"
    }
   ],
   "source": [
    "spacy.explain(\"DATE\")"
   ]
  },
  {
   "cell_type": "markdown",
   "metadata": {},
   "source": [
    "Durwood Pye and Ivan Allen Jr. were tagged as PERSON:"
   ]
  },
  {
   "cell_type": "code",
   "execution_count": 11,
   "metadata": {},
   "outputs": [
    {
     "data": {
      "text/plain": [
       "'People, including fictional'"
      ]
     },
     "execution_count": 11,
     "metadata": {},
     "output_type": "execute_result"
    }
   ],
   "source": [
    "spacy.explain(\"PERSON\")"
   ]
  },
  {
   "cell_type": "markdown",
   "metadata": {},
   "source": [
    "### Some data analysis"
   ]
  },
  {
   "cell_type": "markdown",
   "metadata": {
    "id": "HgdfpE10-Iqt"
   },
   "source": [
    "Let's look what are the five most common people mentioned in the corpus for these categories?  "
   ]
  },
  {
   "cell_type": "code",
   "execution_count": 13,
   "metadata": {},
   "outputs": [
    {
     "name": "stderr",
     "output_type": "stream",
     "text": [
      "100%|██████████| 9371/9371 [00:34<00:00, 271.72it/s]"
     ]
    },
    {
     "name": "stdout",
     "output_type": "stream",
     "text": [
      "The five most common people in the corpus are:\n",
      "[('Kennedy', 114), ('Khrushchev', 51), ('Maris', 36), ('Mantle', 28), ('Eisenhower', 26)]\n"
     ]
    },
    {
     "name": "stderr",
     "output_type": "stream",
     "text": [
      "\n"
     ]
    }
   ],
   "source": [
    "import tqdm\n",
    "from collections import Counter\n",
    "persons_list = [word.text for i in tqdm.tqdm(range(0, len(sentences)), position=0) \n",
    " for word in nlp(' '.join(sentences[i])).ents if word.label_ == 'PERSON']\n",
    "print('The five most common people in the corpus are:')\n",
    "print(Counter(persons_list).most_common(5))"
   ]
  },
  {
   "cell_type": "markdown",
   "metadata": {},
   "source": [
    "What are the five most common buildings?"
   ]
  },
  {
   "cell_type": "code",
   "execution_count": 15,
   "metadata": {},
   "outputs": [
    {
     "name": "stderr",
     "output_type": "stream",
     "text": [
      "100%|██████████| 9371/9371 [00:30<00:00, 308.90it/s]"
     ]
    },
    {
     "name": "stdout",
     "output_type": "stream",
     "text": [
      "The five most common buildings in the corpus are:\n",
      "[('Broadway', 15), ('the White House', 7), ('Pennsylvania Avenue', 4), ('Notre Dame', 4), ('Dreadnought', 4)]\n"
     ]
    },
    {
     "name": "stderr",
     "output_type": "stream",
     "text": [
      "\n"
     ]
    }
   ],
   "source": [
    "buildings_list = [word.text for i in tqdm.tqdm(range(0, len(sentences)), position=0) \n",
    " for word in nlp(' '.join(sentences[i])).ents if word.label_ == 'FAC']\n",
    "print('The five most common buildings in the corpus are:')\n",
    "print(Counter(buildings_list).most_common(5))"
   ]
  },
  {
   "cell_type": "markdown",
   "metadata": {
    "id": "KWbUd6KunKxZ"
   },
   "source": [
    "## Finding relations"
   ]
  },
  {
   "cell_type": "markdown",
   "metadata": {
    "id": "59JxKlKD_oLN"
   },
   "source": [
    "Now we will look at pairs of entities in sentences in the corpus and try to identify relations between them.\n",
    "\n",
    "Let's say I would like to know where organizations are located.  \n",
    "\n",
    "Let's try to find all occurences of organization-location where the organization (ORG) comes before the location (GPE) in the sentence, with no other entity in between, and the word \"in\" appears somewhere between them.   \n",
    "\n",
    "I will put this in a Pandas Dataframe with three columns: ORG (organization name), GPE (location name), and context (words in between the organization and location).   \n",
    "  \n",
    "I used entity.start and entity.end to get the starting and ending indices for an entity in the sentence."
   ]
  },
  {
   "cell_type": "code",
   "execution_count": 16,
   "metadata": {},
   "outputs": [
    {
     "name": "stderr",
     "output_type": "stream",
     "text": [
      "100%|██████████| 9371/9371 [00:31<00:00, 300.45it/s]\n"
     ]
    }
   ],
   "source": [
    "word_tokens = [[(word.text, word.start, word.end, word.label_) \n",
    "             for word in nlp(' '.join(sentences[i])).ents] \n",
    "for i in tqdm.tqdm(range(0, len(sentences)), position=0)]"
   ]
  },
  {
   "cell_type": "code",
   "execution_count": 19,
   "metadata": {},
   "outputs": [],
   "source": [
    "from itertools import tee\n",
    "import pandas as pd\n",
    "\n",
    "def pairwise(iterable):\n",
    "    a, b = tee(iterable)\n",
    "    next(b, None)\n",
    "    return zip(a, b)"
   ]
  },
  {
   "cell_type": "code",
   "execution_count": 22,
   "metadata": {},
   "outputs": [
    {
     "name": "stdout",
     "output_type": "stream",
     "text": [
      "There are 17 entities that where the organization (ORG) comes before the location (GPE) in the sentence, with no other entity in between, and the word in appears somewhere between them.\n"
     ]
    }
   ],
   "source": [
    "df_relations = pd.DataFrame(columns=['ORG', 'GPE', 'context'])\n",
    "for i, token in enumerate(word_tokens):\n",
    "    for v, w in pairwise(token):\n",
    "        if v[3] == 'ORG' and w[3] == 'GPE':\n",
    "            for word_index in range(v[2], w[1]-2):\n",
    "                if sentences[i][word_index] == 'in':\n",
    "                    df_relations = df_relations.append({'ORG': v[0], 'GPE': w[0], 'context': ' '.join(sentences[i][v[2]:w[1]-2])}\n",
    "                                       , ignore_index=True)\n",
    "                    break\n",
    "\n",
    "print(f\"There are {df_relations.shape[0]} entities that where the organization (ORG) comes before the location (GPE) in the sentence, with no other entity in between, and the word in appears somewhere between them.\")           "
   ]
  },
  {
   "cell_type": "code",
   "execution_count": 13,
   "metadata": {},
   "outputs": [
    {
     "data": {
      "text/html": [
       "<div>\n",
       "<style scoped>\n",
       "    .dataframe tbody tr th:only-of-type {\n",
       "        vertical-align: middle;\n",
       "    }\n",
       "\n",
       "    .dataframe tbody tr th {\n",
       "        vertical-align: top;\n",
       "    }\n",
       "\n",
       "    .dataframe thead th {\n",
       "        text-align: right;\n",
       "    }\n",
       "</style>\n",
       "<table border=\"1\" class=\"dataframe\">\n",
       "  <thead>\n",
       "    <tr style=\"text-align: right;\">\n",
       "      <th></th>\n",
       "      <th>ORG</th>\n",
       "      <th>GPE</th>\n",
       "      <th>context</th>\n",
       "    </tr>\n",
       "  </thead>\n",
       "  <tbody>\n",
       "    <tr>\n",
       "      <th>0</th>\n",
       "      <td>the State Welfare Department</td>\n",
       "      <td>Fulton County</td>\n",
       "      <td>has seen fit to distribute these funds through...</td>\n",
       "    </tr>\n",
       "    <tr>\n",
       "      <th>1</th>\n",
       "      <td>NATO</td>\n",
       "      <td>Angola</td>\n",
       "      <td>has been set up so that in the future such topics</td>\n",
       "    </tr>\n",
       "    <tr>\n",
       "      <th>2</th>\n",
       "      <td>State Department</td>\n",
       "      <td>Laos</td>\n",
       "      <td>officials explain , now is mainly interested i...</td>\n",
       "    </tr>\n",
       "    <tr>\n",
       "      <th>3</th>\n",
       "      <td>Wellsley College</td>\n",
       "      <td>Columbus</td>\n",
       "      <td>, in the National A.A.U.</td>\n",
       "    </tr>\n",
       "    <tr>\n",
       "      <th>4</th>\n",
       "      <td>Paree , Genevieve</td>\n",
       "      <td>Empire</td>\n",
       "      <td>opening in</td>\n",
       "    </tr>\n",
       "  </tbody>\n",
       "</table>\n",
       "</div>"
      ],
      "text/plain": [
       "                            ORG            GPE  \\\n",
       "0  the State Welfare Department  Fulton County   \n",
       "1                          NATO         Angola   \n",
       "2              State Department           Laos   \n",
       "3              Wellsley College       Columbus   \n",
       "4             Paree , Genevieve         Empire   \n",
       "\n",
       "                                             context  \n",
       "0  has seen fit to distribute these funds through...  \n",
       "1  has been set up so that in the future such topics  \n",
       "2  officials explain , now is mainly interested i...  \n",
       "3                           , in the National A.A.U.  \n",
       "4                                         opening in  "
      ]
     },
     "execution_count": 13,
     "metadata": {},
     "output_type": "execute_result"
    }
   ],
   "source": [
    "df_relations.head()"
   ]
  },
  {
   "cell_type": "markdown",
   "metadata": {
    "id": "59JxKlKD_oLN"
   },
   "source": [
    "**How much does this data tell us about what organizations are located where? In what cases can we be more or less certain?**"
   ]
  },
  {
   "cell_type": "markdown",
   "metadata": {},
   "source": [
    "This data don't really tell us what organizations are located where. When there is a small amount of words between the organization name and the location, there is a better chance that the word 'in' will indeed indicate a relation of the organization and the location, but as the distance in words between the organization name and the location is getting longer, the context will usually change and the word 'in' won't be enough to decide that there is a relation between the organization and the location."
   ]
  },
  {
   "cell_type": "markdown",
   "metadata": {},
   "source": [
    "#### Another example  \n",
    "\n",
    "We can try to find a relation between a person and a country using 'from' as a context word:"
   ]
  },
  {
   "cell_type": "code",
   "execution_count": 23,
   "metadata": {
    "scrolled": true
   },
   "outputs": [
    {
     "name": "stdout",
     "output_type": "stream",
     "text": [
      "There are 3 entities that have the word -from- between a person and a country.\n"
     ]
    }
   ],
   "source": [
    "df_relations = pd.DataFrame(columns=['PERSON', 'GPE', 'context'])\n",
    "for i, token in enumerate(word_tokens):\n",
    "    for v, w in pairwise(token):\n",
    "        if v[3] == 'PERSON' and w[3] == 'GPE':\n",
    "            for word_index in range(v[2], w[1]-2):\n",
    "                if sentences[i][word_index] == 'from':\n",
    "                    df_relations = df_relations.append({'PERSON': v[0], 'GPE': w[0], 'context': ' '.join(sentences[i][v[2]:w[1]-2])}\n",
    "                                       , ignore_index=True)\n",
    "                    break\n",
    "\n",
    "print(f\"There are {df_relations.shape[0]} entities that have the word -from- between a person and a country.\")           "
   ]
  },
  {
   "cell_type": "code",
   "execution_count": 24,
   "metadata": {},
   "outputs": [
    {
     "data": {
      "text/html": [
       "<div>\n",
       "<style scoped>\n",
       "    .dataframe tbody tr th:only-of-type {\n",
       "        vertical-align: middle;\n",
       "    }\n",
       "\n",
       "    .dataframe tbody tr th {\n",
       "        vertical-align: top;\n",
       "    }\n",
       "\n",
       "    .dataframe thead th {\n",
       "        text-align: right;\n",
       "    }\n",
       "</style>\n",
       "<table border=\"1\" class=\"dataframe\">\n",
       "  <thead>\n",
       "    <tr style=\"text-align: right;\">\n",
       "      <th></th>\n",
       "      <th>PERSON</th>\n",
       "      <th>GPE</th>\n",
       "      <th>context</th>\n",
       "    </tr>\n",
       "  </thead>\n",
       "  <tbody>\n",
       "    <tr>\n",
       "      <th>0</th>\n",
       "      <td>Berry</td>\n",
       "      <td>San Antonio</td>\n",
       "      <td>, an ex-gambler from</td>\n",
       "    </tr>\n",
       "    <tr>\n",
       "      <th>1</th>\n",
       "      <td>Al Fike</td>\n",
       "      <td>Colorado</td>\n",
       "      <td>, an ex-schoolteacher from</td>\n",
       "    </tr>\n",
       "    <tr>\n",
       "      <th>2</th>\n",
       "      <td>Ella Fitzgerald</td>\n",
       "      <td>Australia</td>\n",
       "      <td>from</td>\n",
       "    </tr>\n",
       "  </tbody>\n",
       "</table>\n",
       "</div>"
      ],
      "text/plain": [
       "            PERSON          GPE                     context\n",
       "0            Berry  San Antonio        , an ex-gambler from\n",
       "1          Al Fike     Colorado  , an ex-schoolteacher from\n",
       "2  Ella Fitzgerald    Australia                        from"
      ]
     },
     "execution_count": 24,
     "metadata": {},
     "output_type": "execute_result"
    }
   ],
   "source": [
    "df_relations.head()"
   ]
  }
 ],
 "metadata": {
  "colab": {
   "collapsed_sections": [],
   "name": "NER Exercise 1 - Relations.ipynb",
   "provenance": []
  },
  "kernelspec": {
   "display_name": "Python 3 (ipykernel)",
   "language": "python",
   "name": "python3"
  },
  "language_info": {
   "codemirror_mode": {
    "name": "ipython",
    "version": 3
   },
   "file_extension": ".py",
   "mimetype": "text/x-python",
   "name": "python",
   "nbconvert_exporter": "python",
   "pygments_lexer": "ipython3",
   "version": "3.8.10"
  },
  "toc": {
   "base_numbering": 1,
   "nav_menu": {},
   "number_sections": true,
   "sideBar": true,
   "skip_h1_title": false,
   "title_cell": "Table of Contents",
   "title_sidebar": "Contents",
   "toc_cell": false,
   "toc_position": {},
   "toc_section_display": true,
   "toc_window_display": false
  }
 },
 "nbformat": 4,
 "nbformat_minor": 4
}
